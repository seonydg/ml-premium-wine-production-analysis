{
 "cells": [
  {
   "cell_type": "code",
   "execution_count": 1,
   "metadata": {},
   "outputs": [],
   "source": [
    "import warnings\n",
    "warnings.filterwarnings('ignore')\n",
    "\n",
    "import os\n",
    "import numpy as np\n",
    "import pandas as pd\n",
    "import matplotlib.pyplot as plt\n",
    "import seaborn as sns\n",
    "%matplotlib inline"
   ]
  },
  {
   "cell_type": "markdown",
   "metadata": {},
   "source": [
    "# 데이터 확인"
   ]
  },
  {
   "cell_type": "code",
   "execution_count": 2,
   "metadata": {},
   "outputs": [],
   "source": [
    "red = pd.read_csv('./data/chapter05_winequality_red.csv', sep=';')\n",
    "white = pd.read_csv('./data/chapter05_winequality_white.csv', sep=';')"
   ]
  },
  {
   "cell_type": "code",
   "execution_count": 3,
   "metadata": {},
   "outputs": [
    {
     "data": {
      "text/html": [
       "<div>\n",
       "<style scoped>\n",
       "    .dataframe tbody tr th:only-of-type {\n",
       "        vertical-align: middle;\n",
       "    }\n",
       "\n",
       "    .dataframe tbody tr th {\n",
       "        vertical-align: top;\n",
       "    }\n",
       "\n",
       "    .dataframe thead th {\n",
       "        text-align: right;\n",
       "    }\n",
       "</style>\n",
       "<table border=\"1\" class=\"dataframe\">\n",
       "  <thead>\n",
       "    <tr style=\"text-align: right;\">\n",
       "      <th></th>\n",
       "      <th>fixed acidity</th>\n",
       "      <th>volatile acidity</th>\n",
       "      <th>citric acid</th>\n",
       "      <th>residual sugar</th>\n",
       "      <th>chlorides</th>\n",
       "      <th>free sulfur dioxide</th>\n",
       "      <th>total sulfur dioxide</th>\n",
       "      <th>density</th>\n",
       "      <th>pH</th>\n",
       "      <th>sulphates</th>\n",
       "      <th>alcohol</th>\n",
       "      <th>quality</th>\n",
       "    </tr>\n",
       "  </thead>\n",
       "  <tbody>\n",
       "    <tr>\n",
       "      <th>0</th>\n",
       "      <td>7.4</td>\n",
       "      <td>0.70</td>\n",
       "      <td>0.00</td>\n",
       "      <td>1.9</td>\n",
       "      <td>0.076</td>\n",
       "      <td>11.0</td>\n",
       "      <td>34.0</td>\n",
       "      <td>0.99780</td>\n",
       "      <td>3.51</td>\n",
       "      <td>0.56</td>\n",
       "      <td>9.4</td>\n",
       "      <td>5</td>\n",
       "    </tr>\n",
       "    <tr>\n",
       "      <th>1</th>\n",
       "      <td>7.8</td>\n",
       "      <td>0.88</td>\n",
       "      <td>0.00</td>\n",
       "      <td>2.6</td>\n",
       "      <td>0.098</td>\n",
       "      <td>25.0</td>\n",
       "      <td>67.0</td>\n",
       "      <td>0.99680</td>\n",
       "      <td>3.20</td>\n",
       "      <td>0.68</td>\n",
       "      <td>9.8</td>\n",
       "      <td>5</td>\n",
       "    </tr>\n",
       "    <tr>\n",
       "      <th>2</th>\n",
       "      <td>7.8</td>\n",
       "      <td>0.76</td>\n",
       "      <td>0.04</td>\n",
       "      <td>2.3</td>\n",
       "      <td>0.092</td>\n",
       "      <td>15.0</td>\n",
       "      <td>54.0</td>\n",
       "      <td>0.99700</td>\n",
       "      <td>3.26</td>\n",
       "      <td>0.65</td>\n",
       "      <td>9.8</td>\n",
       "      <td>5</td>\n",
       "    </tr>\n",
       "    <tr>\n",
       "      <th>3</th>\n",
       "      <td>11.2</td>\n",
       "      <td>0.28</td>\n",
       "      <td>0.56</td>\n",
       "      <td>1.9</td>\n",
       "      <td>0.075</td>\n",
       "      <td>17.0</td>\n",
       "      <td>60.0</td>\n",
       "      <td>0.99800</td>\n",
       "      <td>3.16</td>\n",
       "      <td>0.58</td>\n",
       "      <td>9.8</td>\n",
       "      <td>6</td>\n",
       "    </tr>\n",
       "    <tr>\n",
       "      <th>4</th>\n",
       "      <td>7.4</td>\n",
       "      <td>0.70</td>\n",
       "      <td>0.00</td>\n",
       "      <td>1.9</td>\n",
       "      <td>0.076</td>\n",
       "      <td>11.0</td>\n",
       "      <td>34.0</td>\n",
       "      <td>0.99780</td>\n",
       "      <td>3.51</td>\n",
       "      <td>0.56</td>\n",
       "      <td>9.4</td>\n",
       "      <td>5</td>\n",
       "    </tr>\n",
       "    <tr>\n",
       "      <th>...</th>\n",
       "      <td>...</td>\n",
       "      <td>...</td>\n",
       "      <td>...</td>\n",
       "      <td>...</td>\n",
       "      <td>...</td>\n",
       "      <td>...</td>\n",
       "      <td>...</td>\n",
       "      <td>...</td>\n",
       "      <td>...</td>\n",
       "      <td>...</td>\n",
       "      <td>...</td>\n",
       "      <td>...</td>\n",
       "    </tr>\n",
       "    <tr>\n",
       "      <th>4893</th>\n",
       "      <td>6.2</td>\n",
       "      <td>0.21</td>\n",
       "      <td>0.29</td>\n",
       "      <td>1.6</td>\n",
       "      <td>0.039</td>\n",
       "      <td>24.0</td>\n",
       "      <td>92.0</td>\n",
       "      <td>0.99114</td>\n",
       "      <td>3.27</td>\n",
       "      <td>0.50</td>\n",
       "      <td>11.2</td>\n",
       "      <td>6</td>\n",
       "    </tr>\n",
       "    <tr>\n",
       "      <th>4894</th>\n",
       "      <td>6.6</td>\n",
       "      <td>0.32</td>\n",
       "      <td>0.36</td>\n",
       "      <td>8.0</td>\n",
       "      <td>0.047</td>\n",
       "      <td>57.0</td>\n",
       "      <td>168.0</td>\n",
       "      <td>0.99490</td>\n",
       "      <td>3.15</td>\n",
       "      <td>0.46</td>\n",
       "      <td>9.6</td>\n",
       "      <td>5</td>\n",
       "    </tr>\n",
       "    <tr>\n",
       "      <th>4895</th>\n",
       "      <td>6.5</td>\n",
       "      <td>0.24</td>\n",
       "      <td>0.19</td>\n",
       "      <td>1.2</td>\n",
       "      <td>0.041</td>\n",
       "      <td>30.0</td>\n",
       "      <td>111.0</td>\n",
       "      <td>0.99254</td>\n",
       "      <td>2.99</td>\n",
       "      <td>0.46</td>\n",
       "      <td>9.4</td>\n",
       "      <td>6</td>\n",
       "    </tr>\n",
       "    <tr>\n",
       "      <th>4896</th>\n",
       "      <td>5.5</td>\n",
       "      <td>0.29</td>\n",
       "      <td>0.30</td>\n",
       "      <td>1.1</td>\n",
       "      <td>0.022</td>\n",
       "      <td>20.0</td>\n",
       "      <td>110.0</td>\n",
       "      <td>0.98869</td>\n",
       "      <td>3.34</td>\n",
       "      <td>0.38</td>\n",
       "      <td>12.8</td>\n",
       "      <td>7</td>\n",
       "    </tr>\n",
       "    <tr>\n",
       "      <th>4897</th>\n",
       "      <td>6.0</td>\n",
       "      <td>0.21</td>\n",
       "      <td>0.38</td>\n",
       "      <td>0.8</td>\n",
       "      <td>0.020</td>\n",
       "      <td>22.0</td>\n",
       "      <td>98.0</td>\n",
       "      <td>0.98941</td>\n",
       "      <td>3.26</td>\n",
       "      <td>0.32</td>\n",
       "      <td>11.8</td>\n",
       "      <td>6</td>\n",
       "    </tr>\n",
       "  </tbody>\n",
       "</table>\n",
       "<p>6497 rows × 12 columns</p>\n",
       "</div>"
      ],
      "text/plain": [
       "      fixed acidity  volatile acidity  citric acid  residual sugar  chlorides  \\\n",
       "0               7.4              0.70         0.00             1.9      0.076   \n",
       "1               7.8              0.88         0.00             2.6      0.098   \n",
       "2               7.8              0.76         0.04             2.3      0.092   \n",
       "3              11.2              0.28         0.56             1.9      0.075   \n",
       "4               7.4              0.70         0.00             1.9      0.076   \n",
       "...             ...               ...          ...             ...        ...   \n",
       "4893            6.2              0.21         0.29             1.6      0.039   \n",
       "4894            6.6              0.32         0.36             8.0      0.047   \n",
       "4895            6.5              0.24         0.19             1.2      0.041   \n",
       "4896            5.5              0.29         0.30             1.1      0.022   \n",
       "4897            6.0              0.21         0.38             0.8      0.020   \n",
       "\n",
       "      free sulfur dioxide  total sulfur dioxide  density    pH  sulphates  \\\n",
       "0                    11.0                  34.0  0.99780  3.51       0.56   \n",
       "1                    25.0                  67.0  0.99680  3.20       0.68   \n",
       "2                    15.0                  54.0  0.99700  3.26       0.65   \n",
       "3                    17.0                  60.0  0.99800  3.16       0.58   \n",
       "4                    11.0                  34.0  0.99780  3.51       0.56   \n",
       "...                   ...                   ...      ...   ...        ...   \n",
       "4893                 24.0                  92.0  0.99114  3.27       0.50   \n",
       "4894                 57.0                 168.0  0.99490  3.15       0.46   \n",
       "4895                 30.0                 111.0  0.99254  2.99       0.46   \n",
       "4896                 20.0                 110.0  0.98869  3.34       0.38   \n",
       "4897                 22.0                  98.0  0.98941  3.26       0.32   \n",
       "\n",
       "      alcohol  quality  \n",
       "0         9.4        5  \n",
       "1         9.8        5  \n",
       "2         9.8        5  \n",
       "3         9.8        6  \n",
       "4         9.4        5  \n",
       "...       ...      ...  \n",
       "4893     11.2        6  \n",
       "4894      9.6        5  \n",
       "4895      9.4        6  \n",
       "4896     12.8        7  \n",
       "4897     11.8        6  \n",
       "\n",
       "[6497 rows x 12 columns]"
      ]
     },
     "execution_count": 3,
     "metadata": {},
     "output_type": "execute_result"
    }
   ],
   "source": [
    "df = pd.concat([red, white])\n",
    "df"
   ]
  },
  {
   "cell_type": "markdown",
   "metadata": {},
   "source": [
    "# EDA & 전처리"
   ]
  },
  {
   "cell_type": "code",
   "execution_count": 4,
   "metadata": {},
   "outputs": [
    {
     "name": "stdout",
     "output_type": "stream",
     "text": [
      "<class 'pandas.core.frame.DataFrame'>\n",
      "Int64Index: 6497 entries, 0 to 4897\n",
      "Data columns (total 12 columns):\n",
      " #   Column                Non-Null Count  Dtype  \n",
      "---  ------                --------------  -----  \n",
      " 0   fixed acidity         6497 non-null   float64\n",
      " 1   volatile acidity      6497 non-null   float64\n",
      " 2   citric acid           6497 non-null   float64\n",
      " 3   residual sugar        6497 non-null   float64\n",
      " 4   chlorides             6497 non-null   float64\n",
      " 5   free sulfur dioxide   6497 non-null   float64\n",
      " 6   total sulfur dioxide  6497 non-null   float64\n",
      " 7   density               6497 non-null   float64\n",
      " 8   pH                    6497 non-null   float64\n",
      " 9   sulphates             6497 non-null   float64\n",
      " 10  alcohol               6497 non-null   float64\n",
      " 11  quality               6497 non-null   int64  \n",
      "dtypes: float64(11), int64(1)\n",
      "memory usage: 659.9 KB\n"
     ]
    }
   ],
   "source": [
    "df.info()"
   ]
  },
  {
   "cell_type": "code",
   "execution_count": 5,
   "metadata": {},
   "outputs": [
    {
     "data": {
      "text/plain": [
       "fixed acidity           0\n",
       "volatile acidity        0\n",
       "citric acid             0\n",
       "residual sugar          0\n",
       "chlorides               0\n",
       "free sulfur dioxide     0\n",
       "total sulfur dioxide    0\n",
       "density                 0\n",
       "pH                      0\n",
       "sulphates               0\n",
       "alcohol                 0\n",
       "quality                 0\n",
       "dtype: int64"
      ]
     },
     "execution_count": 5,
     "metadata": {},
     "output_type": "execute_result"
    }
   ],
   "source": [
    "# 결측치는 없다\n",
    "df.isnull().sum()"
   ]
  },
  {
   "cell_type": "code",
   "execution_count": 13,
   "metadata": {},
   "outputs": [
    {
     "data": {
      "text/html": [
       "<div>\n",
       "<style scoped>\n",
       "    .dataframe tbody tr th:only-of-type {\n",
       "        vertical-align: middle;\n",
       "    }\n",
       "\n",
       "    .dataframe tbody tr th {\n",
       "        vertical-align: top;\n",
       "    }\n",
       "\n",
       "    .dataframe thead th {\n",
       "        text-align: right;\n",
       "    }\n",
       "</style>\n",
       "<table border=\"1\" class=\"dataframe\">\n",
       "  <thead>\n",
       "    <tr style=\"text-align: right;\">\n",
       "      <th></th>\n",
       "      <th>fixed acidity</th>\n",
       "      <th>volatile acidity</th>\n",
       "      <th>citric acid</th>\n",
       "      <th>residual sugar</th>\n",
       "      <th>chlorides</th>\n",
       "      <th>free sulfur dioxide</th>\n",
       "      <th>total sulfur dioxide</th>\n",
       "      <th>density</th>\n",
       "      <th>pH</th>\n",
       "      <th>sulphates</th>\n",
       "      <th>alcohol</th>\n",
       "      <th>quality</th>\n",
       "      <th>target</th>\n",
       "    </tr>\n",
       "  </thead>\n",
       "  <tbody>\n",
       "    <tr>\n",
       "      <th>0</th>\n",
       "      <td>7.4</td>\n",
       "      <td>0.70</td>\n",
       "      <td>0.00</td>\n",
       "      <td>1.9</td>\n",
       "      <td>0.076</td>\n",
       "      <td>11.0</td>\n",
       "      <td>34.0</td>\n",
       "      <td>0.9978</td>\n",
       "      <td>3.51</td>\n",
       "      <td>0.56</td>\n",
       "      <td>9.4</td>\n",
       "      <td>5</td>\n",
       "      <td>0</td>\n",
       "    </tr>\n",
       "    <tr>\n",
       "      <th>1</th>\n",
       "      <td>7.8</td>\n",
       "      <td>0.88</td>\n",
       "      <td>0.00</td>\n",
       "      <td>2.6</td>\n",
       "      <td>0.098</td>\n",
       "      <td>25.0</td>\n",
       "      <td>67.0</td>\n",
       "      <td>0.9968</td>\n",
       "      <td>3.20</td>\n",
       "      <td>0.68</td>\n",
       "      <td>9.8</td>\n",
       "      <td>5</td>\n",
       "      <td>0</td>\n",
       "    </tr>\n",
       "    <tr>\n",
       "      <th>2</th>\n",
       "      <td>7.8</td>\n",
       "      <td>0.76</td>\n",
       "      <td>0.04</td>\n",
       "      <td>2.3</td>\n",
       "      <td>0.092</td>\n",
       "      <td>15.0</td>\n",
       "      <td>54.0</td>\n",
       "      <td>0.9970</td>\n",
       "      <td>3.26</td>\n",
       "      <td>0.65</td>\n",
       "      <td>9.8</td>\n",
       "      <td>5</td>\n",
       "      <td>0</td>\n",
       "    </tr>\n",
       "    <tr>\n",
       "      <th>3</th>\n",
       "      <td>11.2</td>\n",
       "      <td>0.28</td>\n",
       "      <td>0.56</td>\n",
       "      <td>1.9</td>\n",
       "      <td>0.075</td>\n",
       "      <td>17.0</td>\n",
       "      <td>60.0</td>\n",
       "      <td>0.9980</td>\n",
       "      <td>3.16</td>\n",
       "      <td>0.58</td>\n",
       "      <td>9.8</td>\n",
       "      <td>6</td>\n",
       "      <td>0</td>\n",
       "    </tr>\n",
       "    <tr>\n",
       "      <th>4</th>\n",
       "      <td>7.4</td>\n",
       "      <td>0.70</td>\n",
       "      <td>0.00</td>\n",
       "      <td>1.9</td>\n",
       "      <td>0.076</td>\n",
       "      <td>11.0</td>\n",
       "      <td>34.0</td>\n",
       "      <td>0.9978</td>\n",
       "      <td>3.51</td>\n",
       "      <td>0.56</td>\n",
       "      <td>9.4</td>\n",
       "      <td>5</td>\n",
       "      <td>0</td>\n",
       "    </tr>\n",
       "  </tbody>\n",
       "</table>\n",
       "</div>"
      ],
      "text/plain": [
       "   fixed acidity  volatile acidity  citric acid  residual sugar  chlorides  \\\n",
       "0            7.4              0.70         0.00             1.9      0.076   \n",
       "1            7.8              0.88         0.00             2.6      0.098   \n",
       "2            7.8              0.76         0.04             2.3      0.092   \n",
       "3           11.2              0.28         0.56             1.9      0.075   \n",
       "4            7.4              0.70         0.00             1.9      0.076   \n",
       "\n",
       "   free sulfur dioxide  total sulfur dioxide  density    pH  sulphates  \\\n",
       "0                 11.0                  34.0   0.9978  3.51       0.56   \n",
       "1                 25.0                  67.0   0.9968  3.20       0.68   \n",
       "2                 15.0                  54.0   0.9970  3.26       0.65   \n",
       "3                 17.0                  60.0   0.9980  3.16       0.58   \n",
       "4                 11.0                  34.0   0.9978  3.51       0.56   \n",
       "\n",
       "   alcohol  quality  target  \n",
       "0      9.4        5       0  \n",
       "1      9.8        5       0  \n",
       "2      9.8        5       0  \n",
       "3      9.8        6       0  \n",
       "4      9.4        5       0  "
      ]
     },
     "execution_count": 13,
     "metadata": {},
     "output_type": "execute_result"
    }
   ],
   "source": [
    "df['target'] = np.where(df['quality']>6, 1, 0)\n",
    "\n",
    "df.head()"
   ]
  },
  {
   "cell_type": "code",
   "execution_count": 14,
   "metadata": {},
   "outputs": [
    {
     "data": {
      "text/plain": [
       "0    5220\n",
       "1    1277\n",
       "Name: target, dtype: int64"
      ]
     },
     "execution_count": 14,
     "metadata": {},
     "output_type": "execute_result"
    }
   ],
   "source": [
    "# 프리미엄 Wine을 예측하는 Classification 문제로 변경\n",
    "df['target'].value_counts()"
   ]
  },
  {
   "cell_type": "markdown",
   "metadata": {},
   "source": [
    "- 클래스 불균형 확인"
   ]
  },
  {
   "cell_type": "code",
   "execution_count": 24,
   "metadata": {},
   "outputs": [],
   "source": [
    "from sklearn.model_selection import train_test_split\n",
    "\n",
    "X = df.drop(['quality', 'target'], axis=1)\n",
    "Y = df['target']\n",
    "\n",
    "train_x, test_x, train_y, test_y = train_test_split(X, Y, stratify=Y, random_state=29)"
   ]
  },
  {
   "cell_type": "code",
   "execution_count": 25,
   "metadata": {},
   "outputs": [
    {
     "name": "stdout",
     "output_type": "stream",
     "text": [
      "recall_score:  0.3730407523510972\n",
      "accuracy_score:  0.8073846153846154\n"
     ]
    }
   ],
   "source": [
    "# kNN을 사용한 클래스 불균형 테스트\n",
    "from sklearn.neighbors import KNeighborsClassifier as KNN\n",
    "from sklearn.metrics import *\n",
    "\n",
    "kNN_model = KNN(n_neighbors = 5).fit(train_x, train_y)\n",
    "\n",
    "pred_Y = kNN_model.predict(test_x)\n",
    "print('recall_score: ', recall_score(test_y, pred_Y))\n",
    "print('accuracy_score: ', accuracy_score(test_y, pred_Y))"
   ]
  },
  {
   "cell_type": "code",
   "execution_count": 22,
   "metadata": {},
   "outputs": [],
   "source": [
    "from imblearn.over_sampling import SMOTE\n",
    "\n",
    "# SMOTE 인스턴스 생성\n",
    "oversampling_instance = SMOTE(k_neighbors = 3, sampling_strategy = {1:int(train_y.value_counts().iloc[0] / 2), # 기존의 -1 클래스의 크기에서 1/2 수 만큼 생성\n",
    "                                                                    0:train_y.value_counts().iloc[0]}) # 기존의 -1 인 클래스 수와 동일하도록\n",
    "\n",
    "# 오버샘플링 적용\n",
    "o_Train_X, o_Train_Y = oversampling_instance.fit_resample(train_x, train_y)\n",
    "\n",
    "# ndarray 형태가 되므로 다시 DataFrame과 Series로 변환 (남은 전처리가 없다면 하지 않아도 무방)\n",
    "o_Train_X = pd.DataFrame(o_Train_X, columns = X.columns)\n",
    "o_Train_Y = pd.Series(o_Train_Y)"
   ]
  },
  {
   "cell_type": "code",
   "execution_count": 23,
   "metadata": {},
   "outputs": [
    {
     "data": {
      "text/plain": [
       "0    3914\n",
       "1    1957\n",
       "Name: target, dtype: int64"
      ]
     },
     "execution_count": 23,
     "metadata": {},
     "output_type": "execute_result"
    }
   ],
   "source": [
    "o_Train_Y.value_counts()"
   ]
  },
  {
   "cell_type": "markdown",
   "metadata": {},
   "source": [
    "## 품질 정보 확인"
   ]
  },
  {
   "cell_type": "code",
   "execution_count": 11,
   "metadata": {},
   "outputs": [
    {
     "data": {
      "image/png": "[encoded data removed]",
      "text/plain": [
       "<Figure size 1008x792 with 2 Axes>"
      ]
     },
     "metadata": {
      "needs_background": "light"
     },
     "output_type": "display_data"
    }
   ],
   "source": [
    "sns.heatmap(df.corr(), vmin = -1, vmax = +1, annot = True, cmap = 'coolwarm');\n",
    "plt.gcf().set_size_inches(14, 11)"
   ]
  },
  {
   "cell_type": "code",
   "execution_count": 31,
   "metadata": {},
   "outputs": [
    {
     "data": {
      "text/plain": [
       "total sulfur dioxide    0.333823\n",
       "density                 0.333755\n",
       "volatile acidity        0.319304\n",
       "residual sugar          0.303376\n",
       "alcohol                 0.296255\n",
       "fixed acidity           0.292172\n",
       "chlorides               0.287709\n",
       "free sulfur dioxide     0.284413\n",
       "quality                 0.256154\n",
       "sulphates               0.242657\n",
       "target                  0.233445\n",
       "pH                      0.224075\n",
       "citric acid             0.218836\n",
       "dtype: float64"
      ]
     },
     "execution_count": 31,
     "metadata": {},
     "output_type": "execute_result"
    }
   ],
   "source": [
    "(abs(df.corr()).sum(axis=1) / len(df.columns)).sort_values(ascending=False)"
   ]
  },
  {
   "cell_type": "code",
   "execution_count": 32,
   "metadata": {},
   "outputs": [
    {
     "data": {
      "text/plain": [
       "sulphates               0.142174\n",
       "density                 0.138671\n",
       "target                  0.117506\n",
       "quality                 0.113487\n",
       "citric acid             0.108331\n",
       "fixed acidity           0.107846\n",
       "chlorides               0.099558\n",
       "residual sugar          0.095596\n",
       "free sulfur dioxide     0.077568\n",
       "volatile acidity        0.042984\n",
       "total sulfur dioxide    0.042185\n",
       "pH                      0.034214\n",
       "alcohol                 0.004676\n",
       "dtype: float64"
      ]
     },
     "execution_count": 32,
     "metadata": {},
     "output_type": "execute_result"
    }
   ],
   "source": [
    "(df.corr().sum(axis=1) / len(df.columns)).sort_values(ascending=False)"
   ]
  },
  {
   "cell_type": "code",
   "execution_count": 26,
   "metadata": {},
   "outputs": [
    {
     "data": {
      "image/png": "[encoded data removed]",
      "text/plain": [
       "<Figure size 1440x432 with 3 Axes>"
      ]
     },
     "metadata": {
      "needs_background": "light"
     },
     "output_type": "display_data"
    }
   ],
   "source": [
    "# ▶ 상관계수(0.2) 이상의 상관관계를 가지는 변수 집중 탐색\n",
    "# ▶ 등급이 올라갈수록 volatile acidity(휘발선상)이 낮아지는 경향성이 보임\n",
    "\n",
    "fig, axes = plt.subplots(1, 3)\n",
    "sns.scatterplot(data = df, x='volatile acidity', y='quality', linewidth=0, ax=axes[0]);\n",
    "sns.scatterplot(x=df[df['density']<1]['density'], y=df[df['density']<1]['quality'], linewidth=0, ax=axes[1]);\n",
    "sns.scatterplot(x=df['alcohol'], y=df['quality'], linewidth=0, ax=axes[2]);\n",
    "plt.gcf().set_size_inches(20, 6)"
   ]
  },
  {
   "cell_type": "code",
   "execution_count": 33,
   "metadata": {},
   "outputs": [
    {
     "data": {
      "image/png": "[encoded data removed]",
      "text/plain": [
       "<Figure size 1440x432 with 3 Axes>"
      ]
     },
     "metadata": {
      "needs_background": "light"
     },
     "output_type": "display_data"
    }
   ],
   "source": [
    "fig, axes = plt.subplots(1, 3)\n",
    "sns.scatterplot(data = df, x='volatile acidity', y='quality', linewidth=0, ax=axes[0]);\n",
    "sns.scatterplot(data=df, x='density', y='quality', linewidth=0, ax=axes[1]);\n",
    "sns.scatterplot(data=df, x='alcohol', y='quality', linewidth=0, ax=axes[2]);\n",
    "plt.gcf().set_size_inches(20, 6)"
   ]
  },
  {
   "cell_type": "code",
   "execution_count": null,
   "metadata": {},
   "outputs": [],
   "source": []
  },
  {
   "cell_type": "markdown",
   "metadata": {},
   "source": [
    "# 품질 주요인자 확인 - 회귀 모델링"
   ]
  },
  {
   "cell_type": "code",
   "execution_count": 35,
   "metadata": {},
   "outputs": [
    {
     "data": {
      "text/plain": [
       "((4872, 11), (4872,), (1625, 11), (1625,), (5871, 11), (5871,))"
      ]
     },
     "execution_count": 35,
     "metadata": {},
     "output_type": "execute_result"
    }
   ],
   "source": [
    "# 입력 데이터들 확인\n",
    "train_x.shape, train_y.shape, test_x.shape, test_y.shape, o_Train_X.shape, o_Train_Y.shape"
   ]
  },
  {
   "cell_type": "code",
   "execution_count": 40,
   "metadata": {},
   "outputs": [],
   "source": [
    "# LR(선형회귀) 모델 활용\n",
    "from sklearn.linear_model import LinearRegression as LR\n",
    "from sklearn.metrics import mean_absolute_error, r2_score"
   ]
  },
  {
   "cell_type": "code",
   "execution_count": 85,
   "metadata": {},
   "outputs": [
    {
     "name": "stdout",
     "output_type": "stream",
     "text": [
      "mae train:  0.267818619333233\n",
      "r2 train:  0.19844504769653282\n",
      "--------------------\n",
      "mae test:  0.27467166147572714\n",
      "r2 test:  0.17100151159564436\n"
     ]
    }
   ],
   "source": [
    "lr = LR()\n",
    "lr.fit(train_x, train_y)\n",
    "\n",
    "pred_train = lr.predict(train_x)\n",
    "pred_test = lr.predict(test_x)\n",
    "\n",
    "mae_train = mean_absolute_error(train_y, pred_train)\n",
    "r2_train = r2_score(train_y, pred_train)\n",
    "\n",
    "mae_test = mean_absolute_error(test_y, pred_test)\n",
    "r2_test = r2_score(test_y, pred_test)\n",
    "\n",
    "print(f'mae train: ', mae_train)\n",
    "print('r2 train: ', r2_train)\n",
    "print('-'*20)\n",
    "print('mae test: ', mae_test)\n",
    "print('r2 test: ', r2_test)"
   ]
  },
  {
   "cell_type": "code",
   "execution_count": 86,
   "metadata": {},
   "outputs": [
    {
     "data": {
      "text/html": [
       "<div>\n",
       "<style scoped>\n",
       "    .dataframe tbody tr th:only-of-type {\n",
       "        vertical-align: middle;\n",
       "    }\n",
       "\n",
       "    .dataframe tbody tr th {\n",
       "        vertical-align: top;\n",
       "    }\n",
       "\n",
       "    .dataframe thead th {\n",
       "        text-align: right;\n",
       "    }\n",
       "</style>\n",
       "<table border=\"1\" class=\"dataframe\">\n",
       "  <thead>\n",
       "    <tr style=\"text-align: right;\">\n",
       "      <th></th>\n",
       "      <th>Real Values</th>\n",
       "      <th>Predicted Values</th>\n",
       "      <th>diff</th>\n",
       "    </tr>\n",
       "  </thead>\n",
       "  <tbody>\n",
       "    <tr>\n",
       "      <th>0</th>\n",
       "      <td>0</td>\n",
       "      <td>-0.103169</td>\n",
       "      <td>0.103169</td>\n",
       "    </tr>\n",
       "    <tr>\n",
       "      <th>1</th>\n",
       "      <td>0</td>\n",
       "      <td>0.130475</td>\n",
       "      <td>-0.130475</td>\n",
       "    </tr>\n",
       "    <tr>\n",
       "      <th>2</th>\n",
       "      <td>1</td>\n",
       "      <td>0.025888</td>\n",
       "      <td>0.974112</td>\n",
       "    </tr>\n",
       "    <tr>\n",
       "      <th>3</th>\n",
       "      <td>0</td>\n",
       "      <td>0.342328</td>\n",
       "      <td>-0.342328</td>\n",
       "    </tr>\n",
       "    <tr>\n",
       "      <th>4</th>\n",
       "      <td>0</td>\n",
       "      <td>0.035725</td>\n",
       "      <td>-0.035725</td>\n",
       "    </tr>\n",
       "  </tbody>\n",
       "</table>\n",
       "</div>"
      ],
      "text/plain": [
       "   Real Values  Predicted Values      diff\n",
       "0            0         -0.103169  0.103169\n",
       "1            0          0.130475 -0.130475\n",
       "2            1          0.025888  0.974112\n",
       "3            0          0.342328 -0.342328\n",
       "4            0          0.035725 -0.035725"
      ]
     },
     "execution_count": 86,
     "metadata": {},
     "output_type": "execute_result"
    }
   ],
   "source": [
    "# 실제 값과 예측 값에 대해 표현\n",
    "df_result = pd.DataFrame({'Real Values':test_y, 'Predicted Values':pred_test}).reset_index(drop=True)\n",
    "df_result['diff'] = df_result['Real Values'] - df_result['Predicted Values']\n",
    "df_result.head(5)"
   ]
  },
  {
   "cell_type": "code",
   "execution_count": 87,
   "metadata": {},
   "outputs": [
    {
     "data": {
      "text/html": [
       "<div>\n",
       "<style scoped>\n",
       "    .dataframe tbody tr th:only-of-type {\n",
       "        vertical-align: middle;\n",
       "    }\n",
       "\n",
       "    .dataframe tbody tr th {\n",
       "        vertical-align: top;\n",
       "    }\n",
       "\n",
       "    .dataframe thead th {\n",
       "        text-align: right;\n",
       "    }\n",
       "</style>\n",
       "<table border=\"1\" class=\"dataframe\">\n",
       "  <thead>\n",
       "    <tr style=\"text-align: right;\">\n",
       "      <th></th>\n",
       "      <th>Real Values</th>\n",
       "      <th>Predicted Values</th>\n",
       "      <th>diff</th>\n",
       "    </tr>\n",
       "  </thead>\n",
       "  <tbody>\n",
       "    <tr>\n",
       "      <th>0</th>\n",
       "      <td>0</td>\n",
       "      <td>-0.0</td>\n",
       "      <td>0.0</td>\n",
       "    </tr>\n",
       "    <tr>\n",
       "      <th>1</th>\n",
       "      <td>0</td>\n",
       "      <td>0.0</td>\n",
       "      <td>0.0</td>\n",
       "    </tr>\n",
       "    <tr>\n",
       "      <th>2</th>\n",
       "      <td>1</td>\n",
       "      <td>0.0</td>\n",
       "      <td>1.0</td>\n",
       "    </tr>\n",
       "    <tr>\n",
       "      <th>3</th>\n",
       "      <td>0</td>\n",
       "      <td>0.0</td>\n",
       "      <td>0.0</td>\n",
       "    </tr>\n",
       "    <tr>\n",
       "      <th>4</th>\n",
       "      <td>0</td>\n",
       "      <td>0.0</td>\n",
       "      <td>0.0</td>\n",
       "    </tr>\n",
       "  </tbody>\n",
       "</table>\n",
       "</div>"
      ],
      "text/plain": [
       "   Real Values  Predicted Values  diff\n",
       "0            0              -0.0   0.0\n",
       "1            0               0.0   0.0\n",
       "2            1               0.0   1.0\n",
       "3            0               0.0   0.0\n",
       "4            0               0.0   0.0"
      ]
     },
     "execution_count": 87,
     "metadata": {},
     "output_type": "execute_result"
    }
   ],
   "source": [
    "# 실제 값과 예측 값에 대해 표현 : 0.5보다 낮으면 0, 높으면 1로 해서 \n",
    "df_result = pd.DataFrame({'Real Values':test_y, 'Predicted Values':pred_test.round()}).reset_index(drop=True)\n",
    "df_result['diff'] = df_result['Real Values'] - df_result['Predicted Values']\n",
    "df_result.head(5)"
   ]
  },
  {
   "cell_type": "code",
   "execution_count": 88,
   "metadata": {},
   "outputs": [
    {
     "data": {
      "text/html": [
       "<div>\n",
       "<style scoped>\n",
       "    .dataframe tbody tr th:only-of-type {\n",
       "        vertical-align: middle;\n",
       "    }\n",
       "\n",
       "    .dataframe tbody tr th {\n",
       "        vertical-align: top;\n",
       "    }\n",
       "\n",
       "    .dataframe thead th {\n",
       "        text-align: right;\n",
       "    }\n",
       "</style>\n",
       "<table border=\"1\" class=\"dataframe\">\n",
       "  <thead>\n",
       "    <tr style=\"text-align: right;\">\n",
       "      <th></th>\n",
       "      <th>col</th>\n",
       "      <th>coef</th>\n",
       "    </tr>\n",
       "  </thead>\n",
       "  <tbody>\n",
       "    <tr>\n",
       "      <th>7</th>\n",
       "      <td>density</td>\n",
       "      <td>-45.360368</td>\n",
       "    </tr>\n",
       "    <tr>\n",
       "      <th>4</th>\n",
       "      <td>chlorides</td>\n",
       "      <td>-0.247215</td>\n",
       "    </tr>\n",
       "    <tr>\n",
       "      <th>1</th>\n",
       "      <td>volatile acidity</td>\n",
       "      <td>-0.227412</td>\n",
       "    </tr>\n",
       "    <tr>\n",
       "      <th>6</th>\n",
       "      <td>total sulfur dioxide</td>\n",
       "      <td>-0.000687</td>\n",
       "    </tr>\n",
       "    <tr>\n",
       "      <th>5</th>\n",
       "      <td>free sulfur dioxide</td>\n",
       "      <td>0.001618</td>\n",
       "    </tr>\n",
       "    <tr>\n",
       "      <th>2</th>\n",
       "      <td>citric acid</td>\n",
       "      <td>0.011054</td>\n",
       "    </tr>\n",
       "    <tr>\n",
       "      <th>3</th>\n",
       "      <td>residual sugar</td>\n",
       "      <td>0.023256</td>\n",
       "    </tr>\n",
       "    <tr>\n",
       "      <th>0</th>\n",
       "      <td>fixed acidity</td>\n",
       "      <td>0.050725</td>\n",
       "    </tr>\n",
       "    <tr>\n",
       "      <th>10</th>\n",
       "      <td>alcohol</td>\n",
       "      <td>0.080262</td>\n",
       "    </tr>\n",
       "    <tr>\n",
       "      <th>8</th>\n",
       "      <td>pH</td>\n",
       "      <td>0.276212</td>\n",
       "    </tr>\n",
       "    <tr>\n",
       "      <th>9</th>\n",
       "      <td>sulphates</td>\n",
       "      <td>0.342131</td>\n",
       "    </tr>\n",
       "  </tbody>\n",
       "</table>\n",
       "</div>"
      ],
      "text/plain": [
       "                     col       coef\n",
       "7                density -45.360368\n",
       "4              chlorides  -0.247215\n",
       "1       volatile acidity  -0.227412\n",
       "6   total sulfur dioxide  -0.000687\n",
       "5    free sulfur dioxide   0.001618\n",
       "2            citric acid   0.011054\n",
       "3         residual sugar   0.023256\n",
       "0          fixed acidity   0.050725\n",
       "10               alcohol   0.080262\n",
       "8                     pH   0.276212\n",
       "9              sulphates   0.342131"
      ]
     },
     "execution_count": 88,
     "metadata": {},
     "output_type": "execute_result"
    }
   ],
   "source": [
    "df_coef = pd.DataFrame({'col':X.columns, 'coef':lr.coef_}).reset_index(drop=True)\n",
    "df_coef.sort_values('coef')"
   ]
  },
  {
   "cell_type": "code",
   "execution_count": 89,
   "metadata": {},
   "outputs": [
    {
     "name": "stdout",
     "output_type": "stream",
     "text": [
      "mae train:  0.34575993988535864\n",
      "r2 train:  0.24948126270298\n",
      "--------------------\n",
      "mae test:  0.31956417608207155\n",
      "r2 test:  0.07133318420475421\n"
     ]
    }
   ],
   "source": [
    "lr = LR()\n",
    "lr.fit(o_Train_X, o_Train_Y)\n",
    "\n",
    "pred_train = lr.predict(o_Train_X)\n",
    "pred_test = lr.predict(test_x)\n",
    "\n",
    "mae_train = mean_absolute_error(o_Train_Y, pred_train)\n",
    "r2_train = r2_score(o_Train_Y, pred_train)\n",
    "\n",
    "mae_test = mean_absolute_error(test_y, pred_test)\n",
    "r2_test = r2_score(test_y, pred_test)\n",
    "\n",
    "print(f'mae train: ', mae_train)\n",
    "print('r2 train: ', r2_train)\n",
    "print('-'*20)\n",
    "print('mae test: ', mae_test)\n",
    "print('r2 test: ', r2_test)"
   ]
  },
  {
   "cell_type": "code",
   "execution_count": 90,
   "metadata": {},
   "outputs": [
    {
     "data": {
      "text/html": [
       "<div>\n",
       "<style scoped>\n",
       "    .dataframe tbody tr th:only-of-type {\n",
       "        vertical-align: middle;\n",
       "    }\n",
       "\n",
       "    .dataframe tbody tr th {\n",
       "        vertical-align: top;\n",
       "    }\n",
       "\n",
       "    .dataframe thead th {\n",
       "        text-align: right;\n",
       "    }\n",
       "</style>\n",
       "<table border=\"1\" class=\"dataframe\">\n",
       "  <thead>\n",
       "    <tr style=\"text-align: right;\">\n",
       "      <th></th>\n",
       "      <th>col</th>\n",
       "      <th>coef</th>\n",
       "    </tr>\n",
       "  </thead>\n",
       "  <tbody>\n",
       "    <tr>\n",
       "      <th>7</th>\n",
       "      <td>density</td>\n",
       "      <td>-64.505357</td>\n",
       "    </tr>\n",
       "    <tr>\n",
       "      <th>1</th>\n",
       "      <td>volatile acidity</td>\n",
       "      <td>-0.444820</td>\n",
       "    </tr>\n",
       "    <tr>\n",
       "      <th>4</th>\n",
       "      <td>chlorides</td>\n",
       "      <td>-0.431788</td>\n",
       "    </tr>\n",
       "    <tr>\n",
       "      <th>2</th>\n",
       "      <td>citric acid</td>\n",
       "      <td>-0.114272</td>\n",
       "    </tr>\n",
       "    <tr>\n",
       "      <th>6</th>\n",
       "      <td>total sulfur dioxide</td>\n",
       "      <td>-0.000893</td>\n",
       "    </tr>\n",
       "    <tr>\n",
       "      <th>5</th>\n",
       "      <td>free sulfur dioxide</td>\n",
       "      <td>0.001748</td>\n",
       "    </tr>\n",
       "    <tr>\n",
       "      <th>3</th>\n",
       "      <td>residual sugar</td>\n",
       "      <td>0.033490</td>\n",
       "    </tr>\n",
       "    <tr>\n",
       "      <th>0</th>\n",
       "      <td>fixed acidity</td>\n",
       "      <td>0.082529</td>\n",
       "    </tr>\n",
       "    <tr>\n",
       "      <th>10</th>\n",
       "      <td>alcohol</td>\n",
       "      <td>0.094533</td>\n",
       "    </tr>\n",
       "    <tr>\n",
       "      <th>8</th>\n",
       "      <td>pH</td>\n",
       "      <td>0.330807</td>\n",
       "    </tr>\n",
       "    <tr>\n",
       "      <th>9</th>\n",
       "      <td>sulphates</td>\n",
       "      <td>0.484571</td>\n",
       "    </tr>\n",
       "  </tbody>\n",
       "</table>\n",
       "</div>"
      ],
      "text/plain": [
       "                     col       coef\n",
       "7                density -64.505357\n",
       "1       volatile acidity  -0.444820\n",
       "4              chlorides  -0.431788\n",
       "2            citric acid  -0.114272\n",
       "6   total sulfur dioxide  -0.000893\n",
       "5    free sulfur dioxide   0.001748\n",
       "3         residual sugar   0.033490\n",
       "0          fixed acidity   0.082529\n",
       "10               alcohol   0.094533\n",
       "8                     pH   0.330807\n",
       "9              sulphates   0.484571"
      ]
     },
     "execution_count": 90,
     "metadata": {},
     "output_type": "execute_result"
    }
   ],
   "source": [
    "df_coef = pd.DataFrame({'col':X.columns, 'coef':lr.coef_}).reset_index(drop=True)\n",
    "df_coef.sort_values('coef')"
   ]
  },
  {
   "cell_type": "code",
   "execution_count": 93,
   "metadata": {},
   "outputs": [
    {
     "data": {
      "text/html": [
       "<div>\n",
       "<style scoped>\n",
       "    .dataframe tbody tr th:only-of-type {\n",
       "        vertical-align: middle;\n",
       "    }\n",
       "\n",
       "    .dataframe tbody tr th {\n",
       "        vertical-align: top;\n",
       "    }\n",
       "\n",
       "    .dataframe thead th {\n",
       "        text-align: right;\n",
       "    }\n",
       "</style>\n",
       "<table border=\"1\" class=\"dataframe\">\n",
       "  <thead>\n",
       "    <tr style=\"text-align: right;\">\n",
       "      <th></th>\n",
       "      <th>fixed acidity</th>\n",
       "      <th>volatile acidity</th>\n",
       "      <th>citric acid</th>\n",
       "      <th>residual sugar</th>\n",
       "      <th>chlorides</th>\n",
       "      <th>free sulfur dioxide</th>\n",
       "      <th>total sulfur dioxide</th>\n",
       "      <th>density</th>\n",
       "      <th>pH</th>\n",
       "      <th>sulphates</th>\n",
       "      <th>alcohol</th>\n",
       "      <th>quality</th>\n",
       "      <th>target</th>\n",
       "    </tr>\n",
       "  </thead>\n",
       "  <tbody>\n",
       "    <tr>\n",
       "      <th>fixed acidity</th>\n",
       "      <td>NaN</td>\n",
       "      <td>NaN</td>\n",
       "      <td>NaN</td>\n",
       "      <td>NaN</td>\n",
       "      <td>NaN</td>\n",
       "      <td>NaN</td>\n",
       "      <td>NaN</td>\n",
       "      <td>NaN</td>\n",
       "      <td>NaN</td>\n",
       "      <td>NaN</td>\n",
       "      <td>NaN</td>\n",
       "      <td>NaN</td>\n",
       "      <td>NaN</td>\n",
       "    </tr>\n",
       "    <tr>\n",
       "      <th>volatile acidity</th>\n",
       "      <td>NaN</td>\n",
       "      <td>NaN</td>\n",
       "      <td>NaN</td>\n",
       "      <td>NaN</td>\n",
       "      <td>NaN</td>\n",
       "      <td>NaN</td>\n",
       "      <td>NaN</td>\n",
       "      <td>NaN</td>\n",
       "      <td>NaN</td>\n",
       "      <td>NaN</td>\n",
       "      <td>NaN</td>\n",
       "      <td>NaN</td>\n",
       "      <td>NaN</td>\n",
       "    </tr>\n",
       "    <tr>\n",
       "      <th>citric acid</th>\n",
       "      <td>NaN</td>\n",
       "      <td>NaN</td>\n",
       "      <td>NaN</td>\n",
       "      <td>NaN</td>\n",
       "      <td>NaN</td>\n",
       "      <td>NaN</td>\n",
       "      <td>NaN</td>\n",
       "      <td>NaN</td>\n",
       "      <td>NaN</td>\n",
       "      <td>NaN</td>\n",
       "      <td>NaN</td>\n",
       "      <td>NaN</td>\n",
       "      <td>NaN</td>\n",
       "    </tr>\n",
       "    <tr>\n",
       "      <th>residual sugar</th>\n",
       "      <td>NaN</td>\n",
       "      <td>NaN</td>\n",
       "      <td>NaN</td>\n",
       "      <td>NaN</td>\n",
       "      <td>NaN</td>\n",
       "      <td>NaN</td>\n",
       "      <td>NaN</td>\n",
       "      <td>0.552517</td>\n",
       "      <td>NaN</td>\n",
       "      <td>NaN</td>\n",
       "      <td>NaN</td>\n",
       "      <td>NaN</td>\n",
       "      <td>NaN</td>\n",
       "    </tr>\n",
       "    <tr>\n",
       "      <th>chlorides</th>\n",
       "      <td>NaN</td>\n",
       "      <td>NaN</td>\n",
       "      <td>NaN</td>\n",
       "      <td>NaN</td>\n",
       "      <td>NaN</td>\n",
       "      <td>NaN</td>\n",
       "      <td>NaN</td>\n",
       "      <td>NaN</td>\n",
       "      <td>NaN</td>\n",
       "      <td>NaN</td>\n",
       "      <td>NaN</td>\n",
       "      <td>NaN</td>\n",
       "      <td>NaN</td>\n",
       "    </tr>\n",
       "    <tr>\n",
       "      <th>free sulfur dioxide</th>\n",
       "      <td>NaN</td>\n",
       "      <td>NaN</td>\n",
       "      <td>NaN</td>\n",
       "      <td>NaN</td>\n",
       "      <td>NaN</td>\n",
       "      <td>NaN</td>\n",
       "      <td>0.720934</td>\n",
       "      <td>NaN</td>\n",
       "      <td>NaN</td>\n",
       "      <td>NaN</td>\n",
       "      <td>NaN</td>\n",
       "      <td>NaN</td>\n",
       "      <td>NaN</td>\n",
       "    </tr>\n",
       "    <tr>\n",
       "      <th>total sulfur dioxide</th>\n",
       "      <td>NaN</td>\n",
       "      <td>NaN</td>\n",
       "      <td>NaN</td>\n",
       "      <td>NaN</td>\n",
       "      <td>NaN</td>\n",
       "      <td>0.720934</td>\n",
       "      <td>NaN</td>\n",
       "      <td>NaN</td>\n",
       "      <td>NaN</td>\n",
       "      <td>NaN</td>\n",
       "      <td>NaN</td>\n",
       "      <td>NaN</td>\n",
       "      <td>NaN</td>\n",
       "    </tr>\n",
       "    <tr>\n",
       "      <th>density</th>\n",
       "      <td>NaN</td>\n",
       "      <td>NaN</td>\n",
       "      <td>NaN</td>\n",
       "      <td>0.552517</td>\n",
       "      <td>NaN</td>\n",
       "      <td>NaN</td>\n",
       "      <td>NaN</td>\n",
       "      <td>NaN</td>\n",
       "      <td>NaN</td>\n",
       "      <td>NaN</td>\n",
       "      <td>-0.686745</td>\n",
       "      <td>NaN</td>\n",
       "      <td>NaN</td>\n",
       "    </tr>\n",
       "    <tr>\n",
       "      <th>pH</th>\n",
       "      <td>NaN</td>\n",
       "      <td>NaN</td>\n",
       "      <td>NaN</td>\n",
       "      <td>NaN</td>\n",
       "      <td>NaN</td>\n",
       "      <td>NaN</td>\n",
       "      <td>NaN</td>\n",
       "      <td>NaN</td>\n",
       "      <td>NaN</td>\n",
       "      <td>NaN</td>\n",
       "      <td>NaN</td>\n",
       "      <td>NaN</td>\n",
       "      <td>NaN</td>\n",
       "    </tr>\n",
       "    <tr>\n",
       "      <th>sulphates</th>\n",
       "      <td>NaN</td>\n",
       "      <td>NaN</td>\n",
       "      <td>NaN</td>\n",
       "      <td>NaN</td>\n",
       "      <td>NaN</td>\n",
       "      <td>NaN</td>\n",
       "      <td>NaN</td>\n",
       "      <td>NaN</td>\n",
       "      <td>NaN</td>\n",
       "      <td>NaN</td>\n",
       "      <td>NaN</td>\n",
       "      <td>NaN</td>\n",
       "      <td>NaN</td>\n",
       "    </tr>\n",
       "    <tr>\n",
       "      <th>alcohol</th>\n",
       "      <td>NaN</td>\n",
       "      <td>NaN</td>\n",
       "      <td>NaN</td>\n",
       "      <td>NaN</td>\n",
       "      <td>NaN</td>\n",
       "      <td>NaN</td>\n",
       "      <td>NaN</td>\n",
       "      <td>-0.686745</td>\n",
       "      <td>NaN</td>\n",
       "      <td>NaN</td>\n",
       "      <td>NaN</td>\n",
       "      <td>NaN</td>\n",
       "      <td>NaN</td>\n",
       "    </tr>\n",
       "    <tr>\n",
       "      <th>quality</th>\n",
       "      <td>NaN</td>\n",
       "      <td>NaN</td>\n",
       "      <td>NaN</td>\n",
       "      <td>NaN</td>\n",
       "      <td>NaN</td>\n",
       "      <td>NaN</td>\n",
       "      <td>NaN</td>\n",
       "      <td>NaN</td>\n",
       "      <td>NaN</td>\n",
       "      <td>NaN</td>\n",
       "      <td>NaN</td>\n",
       "      <td>NaN</td>\n",
       "      <td>0.75936</td>\n",
       "    </tr>\n",
       "    <tr>\n",
       "      <th>target</th>\n",
       "      <td>NaN</td>\n",
       "      <td>NaN</td>\n",
       "      <td>NaN</td>\n",
       "      <td>NaN</td>\n",
       "      <td>NaN</td>\n",
       "      <td>NaN</td>\n",
       "      <td>NaN</td>\n",
       "      <td>NaN</td>\n",
       "      <td>NaN</td>\n",
       "      <td>NaN</td>\n",
       "      <td>NaN</td>\n",
       "      <td>0.75936</td>\n",
       "      <td>NaN</td>\n",
       "    </tr>\n",
       "  </tbody>\n",
       "</table>\n",
       "</div>"
      ],
      "text/plain": [
       "                      fixed acidity  volatile acidity  citric acid  \\\n",
       "fixed acidity                   NaN               NaN          NaN   \n",
       "volatile acidity                NaN               NaN          NaN   \n",
       "citric acid                     NaN               NaN          NaN   \n",
       "residual sugar                  NaN               NaN          NaN   \n",
       "chlorides                       NaN               NaN          NaN   \n",
       "free sulfur dioxide             NaN               NaN          NaN   \n",
       "total sulfur dioxide            NaN               NaN          NaN   \n",
       "density                         NaN               NaN          NaN   \n",
       "pH                              NaN               NaN          NaN   \n",
       "sulphates                       NaN               NaN          NaN   \n",
       "alcohol                         NaN               NaN          NaN   \n",
       "quality                         NaN               NaN          NaN   \n",
       "target                          NaN               NaN          NaN   \n",
       "\n",
       "                      residual sugar  chlorides  free sulfur dioxide  \\\n",
       "fixed acidity                    NaN        NaN                  NaN   \n",
       "volatile acidity                 NaN        NaN                  NaN   \n",
       "citric acid                      NaN        NaN                  NaN   \n",
       "residual sugar                   NaN        NaN                  NaN   \n",
       "chlorides                        NaN        NaN                  NaN   \n",
       "free sulfur dioxide              NaN        NaN                  NaN   \n",
       "total sulfur dioxide             NaN        NaN             0.720934   \n",
       "density                     0.552517        NaN                  NaN   \n",
       "pH                               NaN        NaN                  NaN   \n",
       "sulphates                        NaN        NaN                  NaN   \n",
       "alcohol                          NaN        NaN                  NaN   \n",
       "quality                          NaN        NaN                  NaN   \n",
       "target                           NaN        NaN                  NaN   \n",
       "\n",
       "                      total sulfur dioxide   density  pH  sulphates   alcohol  \\\n",
       "fixed acidity                          NaN       NaN NaN        NaN       NaN   \n",
       "volatile acidity                       NaN       NaN NaN        NaN       NaN   \n",
       "citric acid                            NaN       NaN NaN        NaN       NaN   \n",
       "residual sugar                         NaN  0.552517 NaN        NaN       NaN   \n",
       "chlorides                              NaN       NaN NaN        NaN       NaN   \n",
       "free sulfur dioxide               0.720934       NaN NaN        NaN       NaN   \n",
       "total sulfur dioxide                   NaN       NaN NaN        NaN       NaN   \n",
       "density                                NaN       NaN NaN        NaN -0.686745   \n",
       "pH                                     NaN       NaN NaN        NaN       NaN   \n",
       "sulphates                              NaN       NaN NaN        NaN       NaN   \n",
       "alcohol                                NaN -0.686745 NaN        NaN       NaN   \n",
       "quality                                NaN       NaN NaN        NaN       NaN   \n",
       "target                                 NaN       NaN NaN        NaN       NaN   \n",
       "\n",
       "                      quality   target  \n",
       "fixed acidity             NaN      NaN  \n",
       "volatile acidity          NaN      NaN  \n",
       "citric acid               NaN      NaN  \n",
       "residual sugar            NaN      NaN  \n",
       "chlorides                 NaN      NaN  \n",
       "free sulfur dioxide       NaN      NaN  \n",
       "total sulfur dioxide      NaN      NaN  \n",
       "density                   NaN      NaN  \n",
       "pH                        NaN      NaN  \n",
       "sulphates                 NaN      NaN  \n",
       "alcohol                   NaN      NaN  \n",
       "quality                   NaN  0.75936  \n",
       "target                0.75936      NaN  "
      ]
     },
     "execution_count": 93,
     "metadata": {},
     "output_type": "execute_result"
    }
   ],
   "source": [
    "# 다중공선성 확인\n",
    "df.corr()[(abs(df.corr()) > 0.5) & (df.corr() != 1)]"
   ]
  },
  {
   "cell_type": "code",
   "execution_count": 143,
   "metadata": {},
   "outputs": [
    {
     "name": "stdout",
     "output_type": "stream",
     "text": [
      "mae train:  0.2719221004568015\n",
      "r2 train:  0.17555338220136418\n",
      "--------------------\n",
      "mae test:  0.2674529373002626\n",
      "r2 test:  0.18463224725622918\n"
     ]
    }
   ],
   "source": [
    "X = df.drop(['residual sugar', 'free sulfur dioxide', 'quality', 'target'], axis=1)\n",
    "Y = df['target']\n",
    "\n",
    "train_x, test_x, train_y, test_y = train_test_split(X, Y, stratify=Y)\n",
    "\n",
    "lr.fit(train_x, train_y)\n",
    "train_pred = lr.predict(train_x)\n",
    "test_pred = lr.predict(test_x)\n",
    "\n",
    "mae_train = mean_absolute_error(train_y, train_pred)\n",
    "r2_train = r2_score(train_y, train_pred)\n",
    "\n",
    "mae_test = mean_absolute_error(test_y, test_pred)\n",
    "r2_test = r2_score(test_y, test_pred)\n",
    "\n",
    "print(f'mae train: ', mae_train)\n",
    "print('r2 train: ', r2_train)\n",
    "print('-'*20)\n",
    "print('mae test: ', mae_test)\n",
    "print('r2 test: ', r2_test)"
   ]
  },
  {
   "cell_type": "code",
   "execution_count": 144,
   "metadata": {},
   "outputs": [
    {
     "data": {
      "text/html": [
       "<div>\n",
       "<style scoped>\n",
       "    .dataframe tbody tr th:only-of-type {\n",
       "        vertical-align: middle;\n",
       "    }\n",
       "\n",
       "    .dataframe tbody tr th {\n",
       "        vertical-align: top;\n",
       "    }\n",
       "\n",
       "    .dataframe thead th {\n",
       "        text-align: right;\n",
       "    }\n",
       "</style>\n",
       "<table border=\"1\" class=\"dataframe\">\n",
       "  <thead>\n",
       "    <tr style=\"text-align: right;\">\n",
       "      <th></th>\n",
       "      <th>col</th>\n",
       "      <th>coef</th>\n",
       "    </tr>\n",
       "  </thead>\n",
       "  <tbody>\n",
       "    <tr>\n",
       "      <th>3</th>\n",
       "      <td>chlorides</td>\n",
       "      <td>-0.503231</td>\n",
       "    </tr>\n",
       "    <tr>\n",
       "      <th>1</th>\n",
       "      <td>volatile acidity</td>\n",
       "      <td>-0.350870</td>\n",
       "    </tr>\n",
       "    <tr>\n",
       "      <th>2</th>\n",
       "      <td>citric acid</td>\n",
       "      <td>-0.003886</td>\n",
       "    </tr>\n",
       "    <tr>\n",
       "      <th>4</th>\n",
       "      <td>total sulfur dioxide</td>\n",
       "      <td>0.000050</td>\n",
       "    </tr>\n",
       "    <tr>\n",
       "      <th>0</th>\n",
       "      <td>fixed acidity</td>\n",
       "      <td>0.002139</td>\n",
       "    </tr>\n",
       "    <tr>\n",
       "      <th>6</th>\n",
       "      <td>pH</td>\n",
       "      <td>0.022191</td>\n",
       "    </tr>\n",
       "    <tr>\n",
       "      <th>8</th>\n",
       "      <td>alcohol</td>\n",
       "      <td>0.129389</td>\n",
       "    </tr>\n",
       "    <tr>\n",
       "      <th>7</th>\n",
       "      <td>sulphates</td>\n",
       "      <td>0.212200</td>\n",
       "    </tr>\n",
       "    <tr>\n",
       "      <th>5</th>\n",
       "      <td>density</td>\n",
       "      <td>3.007745</td>\n",
       "    </tr>\n",
       "  </tbody>\n",
       "</table>\n",
       "</div>"
      ],
      "text/plain": [
       "                    col      coef\n",
       "3             chlorides -0.503231\n",
       "1      volatile acidity -0.350870\n",
       "2           citric acid -0.003886\n",
       "4  total sulfur dioxide  0.000050\n",
       "0         fixed acidity  0.002139\n",
       "6                    pH  0.022191\n",
       "8               alcohol  0.129389\n",
       "7             sulphates  0.212200\n",
       "5               density  3.007745"
      ]
     },
     "execution_count": 144,
     "metadata": {},
     "output_type": "execute_result"
    }
   ],
   "source": [
    "df_coef = pd.DataFrame({'col':X.columns, 'coef':lr.coef_}).reset_index(drop=True)\n",
    "df_coef.sort_values('coef')"
   ]
  },
  {
   "cell_type": "code",
   "execution_count": null,
   "metadata": {},
   "outputs": [],
   "source": []
  },
  {
   "cell_type": "markdown",
   "metadata": {},
   "source": [
    "# 품질 주요인자 확인 - 분류 모델링"
   ]
  },
  {
   "cell_type": "code",
   "execution_count": 160,
   "metadata": {},
   "outputs": [],
   "source": [
    "from lightgbm import LGBMClassifier as LGB\n",
    "from sklearn.ensemble import RandomForestClassifier as RFC\n",
    "from sklearn.metrics import classification_report\n",
    "from sklearn.model_selection import ParameterGrid\n",
    "from sklearn.metrics import f1_score, accuracy_score"
   ]
  },
  {
   "cell_type": "code",
   "execution_count": 146,
   "metadata": {},
   "outputs": [],
   "source": [
    "X = df.drop(['quality', 'target'], axis=1)\n",
    "Y = df['target']\n",
    "\n",
    "train_x, test_x, train_y, test_y = train_test_split(X, Y, stratify=Y, random_state=29)"
   ]
  },
  {
   "cell_type": "markdown",
   "metadata": {},
   "source": [
    "- 다시 업샘플링을 진행"
   ]
  },
  {
   "cell_type": "code",
   "execution_count": 147,
   "metadata": {},
   "outputs": [],
   "source": [
    "# SMOTE 인스턴스 생성\n",
    "oversampling_instance = SMOTE(k_neighbors = 3, sampling_strategy = {1:int(train_y.value_counts().iloc[0] / 2), # 기존의 -1 클래스의 크기에서 1/2 수 만큼 생성\n",
    "                                                                    0:train_y.value_counts().iloc[0]}) # 기존의 -1 인 클래스 수와 동일하도록\n",
    "\n",
    "# 오버샘플링 적용\n",
    "o_Train_X, o_Train_Y = oversampling_instance.fit_resample(train_x, train_y)\n",
    "\n",
    "# ndarray 형태가 되므로 다시 DataFrame과 Series로 변환 (남은 전처리가 없다면 하지 않아도 무방)\n",
    "o_Train_X = pd.DataFrame(o_Train_X, columns = X.columns)\n",
    "o_Train_Y = pd.Series(o_Train_Y)"
   ]
  },
  {
   "cell_type": "code",
   "execution_count": 148,
   "metadata": {},
   "outputs": [
    {
     "data": {
      "text/plain": [
       "((4872, 11), (1625, 11), (4872,), (1625,), (5871, 11), (5871,))"
      ]
     },
     "execution_count": 148,
     "metadata": {},
     "output_type": "execute_result"
    }
   ],
   "source": [
    "train_x.shape, test_x.shape, train_y.shape, test_y.shape, o_Train_X.shape, o_Train_Y.shape"
   ]
  },
  {
   "cell_type": "code",
   "execution_count": 149,
   "metadata": {},
   "outputs": [
    {
     "data": {
      "text/plain": [
       "{'boosting_type': 'gbdt',\n",
       " 'class_weight': None,\n",
       " 'colsample_bytree': 1.0,\n",
       " 'importance_type': 'split',\n",
       " 'learning_rate': 0.1,\n",
       " 'max_depth': -1,\n",
       " 'min_child_samples': 20,\n",
       " 'min_child_weight': 0.001,\n",
       " 'min_split_gain': 0.0,\n",
       " 'n_estimators': 100,\n",
       " 'n_jobs': -1,\n",
       " 'num_leaves': 31,\n",
       " 'objective': None,\n",
       " 'random_state': None,\n",
       " 'reg_alpha': 0.0,\n",
       " 'reg_lambda': 0.0,\n",
       " 'silent': True,\n",
       " 'subsample': 1.0,\n",
       " 'subsample_for_bin': 200000,\n",
       " 'subsample_freq': 0}"
      ]
     },
     "execution_count": 149,
     "metadata": {},
     "output_type": "execute_result"
    }
   ],
   "source": [
    "LGB().get_params()"
   ]
  },
  {
   "cell_type": "code",
   "execution_count": 150,
   "metadata": {},
   "outputs": [
    {
     "data": {
      "text/plain": [
       "{'bootstrap': True,\n",
       " 'ccp_alpha': 0.0,\n",
       " 'class_weight': None,\n",
       " 'criterion': 'gini',\n",
       " 'max_depth': None,\n",
       " 'max_features': 'sqrt',\n",
       " 'max_leaf_nodes': None,\n",
       " 'max_samples': None,\n",
       " 'min_impurity_decrease': 0.0,\n",
       " 'min_samples_leaf': 1,\n",
       " 'min_samples_split': 2,\n",
       " 'min_weight_fraction_leaf': 0.0,\n",
       " 'n_estimators': 100,\n",
       " 'n_jobs': None,\n",
       " 'oob_score': False,\n",
       " 'random_state': None,\n",
       " 'verbose': 0,\n",
       " 'warm_start': False}"
      ]
     },
     "execution_count": 150,
     "metadata": {},
     "output_type": "execute_result"
    }
   ],
   "source": [
    "RFC().get_params()"
   ]
  },
  {
   "cell_type": "code",
   "execution_count": 153,
   "metadata": {},
   "outputs": [],
   "source": [
    "model_parameter_dict = dict()\n",
    "\n",
    "RFR_param_grid = ParameterGrid({\n",
    "                                'max_depth':[3, 5, 10, 15],\n",
    "                                'n_estimators':[100, 200, 400],\n",
    "                                'n_jobs':[-1]\n",
    "})\n",
    "LGB_param_grid = ParameterGrid({\n",
    "                                'max_depth':[3, 5, 10, 15],\n",
    "                                'n_estimators':[100, 200, 400],\n",
    "                                'learning_rate':[0.05, 0.1, 0.2]\n",
    "})\n",
    "\n",
    "model_parameter_dict[RFC] = RFR_param_grid\n",
    "model_parameter_dict[LGB] = LGB_param_grid"
   ]
  },
  {
   "cell_type": "code",
   "execution_count": 156,
   "metadata": {},
   "outputs": [
    {
     "name": "stdout",
     "output_type": "stream",
     "text": [
      "48\n"
     ]
    }
   ],
   "source": [
    "max_iter = 0\n",
    "for m in model_parameter_dict.keys():\n",
    "    for p in model_parameter_dict[m]:\n",
    "        model = m(**p)\n",
    "        max_iter += 1\n",
    "print(max_iter)"
   ]
  },
  {
   "cell_type": "code",
   "execution_count": 167,
   "metadata": {},
   "outputs": [
    {
     "name": "stdout",
     "output_type": "stream",
     "text": [
      "iter_num-1/48 => score : 0.155, best score : 0.155 | acc : 0.8184615384615385\n",
      "iter_num-2/48 => score : 0.094, best score : 0.155 | acc : 0.8184615384615385\n",
      "iter_num-3/48 => score : 0.105, best score : 0.155 | acc : 0.8184615384615385\n",
      "iter_num-4/48 => score : 0.344, best score : 0.344 | acc : 0.8307692307692308\n",
      "iter_num-5/48 => score : 0.335, best score : 0.344 | acc : 0.8307692307692308\n",
      "iter_num-6/48 => score : 0.324, best score : 0.344 | acc : 0.8307692307692308\n",
      "iter_num-7/48 => score : 0.566, best score : 0.566 | acc : 0.8621538461538462\n",
      "iter_num-8/48 => score : 0.578, best score : 0.578 | acc : 0.8689230769230769\n",
      "iter_num-9/48 => score : 0.581, best score : 0.581 | acc : 0.8670769230769231\n",
      "iter_num-10/48 => score : 0.653, best score : 0.653 | acc : 0.8849230769230769\n",
      "iter_num-11/48 => score : 0.639, best score : 0.653 | acc : 0.8849230769230769\n",
      "iter_num-12/48 => score : 0.625, best score : 0.653 | acc : 0.8849230769230769\n",
      "iter_num-13/48 => score : 0.438, best score : 0.653 | acc : 0.8849230769230769\n",
      "iter_num-14/48 => score : 0.491, best score : 0.653 | acc : 0.8849230769230769\n",
      "iter_num-15/48 => score : 0.538, best score : 0.653 | acc : 0.8849230769230769\n",
      "iter_num-16/48 => score : 0.514, best score : 0.653 | acc : 0.8849230769230769\n",
      "iter_num-17/48 => score : 0.574, best score : 0.653 | acc : 0.8849230769230769\n",
      "iter_num-18/48 => score : 0.621, best score : 0.653 | acc : 0.8849230769230769\n",
      "iter_num-19/48 => score : 0.599, best score : 0.653 | acc : 0.8849230769230769\n",
      "iter_num-20/48 => score : 0.623, best score : 0.653 | acc : 0.8849230769230769\n",
      "iter_num-21/48 => score : 0.656, best score : 0.656 | acc : 0.8818461538461538\n",
      "iter_num-22/48 => score : 0.586, best score : 0.656 | acc : 0.8818461538461538\n",
      "iter_num-23/48 => score : 0.641, best score : 0.656 | acc : 0.8818461538461538\n",
      "iter_num-24/48 => score : 0.661, best score : 0.661 | acc : 0.8843076923076924\n",
      "iter_num-25/48 => score : 0.506, best score : 0.661 | acc : 0.8843076923076924\n",
      "iter_num-26/48 => score : 0.543, best score : 0.661 | acc : 0.8843076923076924\n",
      "iter_num-27/48 => score : 0.580, best score : 0.661 | acc : 0.8843076923076924\n",
      "iter_num-28/48 => score : 0.580, best score : 0.661 | acc : 0.8843076923076924\n",
      "iter_num-29/48 => score : 0.621, best score : 0.661 | acc : 0.8843076923076924\n",
      "iter_num-30/48 => score : 0.643, best score : 0.661 | acc : 0.8843076923076924\n",
      "iter_num-31/48 => score : 0.614, best score : 0.661 | acc : 0.8843076923076924\n",
      "iter_num-32/48 => score : 0.636, best score : 0.661 | acc : 0.8843076923076924\n",
      "iter_num-33/48 => score : 0.655, best score : 0.661 | acc : 0.8843076923076924\n",
      "iter_num-34/48 => score : 0.608, best score : 0.661 | acc : 0.8843076923076924\n",
      "iter_num-35/48 => score : 0.650, best score : 0.661 | acc : 0.8843076923076924\n",
      "iter_num-36/48 => score : 0.648, best score : 0.661 | acc : 0.8843076923076924\n",
      "iter_num-37/48 => score : 0.530, best score : 0.661 | acc : 0.8843076923076924\n",
      "iter_num-38/48 => score : 0.574, best score : 0.661 | acc : 0.8843076923076924\n",
      "iter_num-39/48 => score : 0.600, best score : 0.661 | acc : 0.8843076923076924\n",
      "iter_num-40/48 => score : 0.608, best score : 0.661 | acc : 0.8843076923076924\n",
      "iter_num-41/48 => score : 0.652, best score : 0.661 | acc : 0.8843076923076924\n",
      "iter_num-42/48 => score : 0.634, best score : 0.661 | acc : 0.8843076923076924\n",
      "iter_num-43/48 => score : 0.658, best score : 0.661 | acc : 0.8843076923076924\n",
      "iter_num-44/48 => score : 0.662, best score : 0.662 | acc : 0.8843076923076924\n",
      "iter_num-45/48 => score : 0.662, best score : 0.662 | acc : 0.8843076923076924\n",
      "iter_num-46/48 => score : 0.639, best score : 0.662 | acc : 0.8843076923076924\n",
      "iter_num-47/48 => score : 0.641, best score : 0.662 | acc : 0.8843076923076924\n",
      "iter_num-48/48 => score : 0.645, best score : 0.662 | acc : 0.8843076923076924\n"
     ]
    }
   ],
   "source": [
    "best_score = -1\n",
    "iteration_num = 0\n",
    "knn_list = []\n",
    "rfr_list = []\n",
    "lgb_list = []\n",
    "\n",
    "for m in model_parameter_dict.keys():\n",
    "    for p in model_parameter_dict[m]:\n",
    "        model = m(**p).fit(train_x.values, train_y.values)\n",
    "        pred = model.predict(test_x.values)\n",
    "        score = f1_score(test_y.values, pred)\n",
    "        acc = accuracy_score(test_y.values, pred)\n",
    "\n",
    "        if score > best_score:\n",
    "            best_score = score\n",
    "            best_model = m\n",
    "            best_parameter = p\n",
    "            accuracy = acc\n",
    "            \n",
    "        if m == KNN:\n",
    "            knn_list.append(score)\n",
    "        elif m == RFC:\n",
    "            rfr_list.append(score)\n",
    "        elif m == LGB:\n",
    "            lgb_list.append(score)\n",
    "        \n",
    "        iteration_num += 1\n",
    "\n",
    "        print(f'iter_num-{iteration_num}/{max_iter} => score : {score:.3f}, best score : {best_score:.3f} | acc : {accuracy}')"
   ]
  },
  {
   "cell_type": "code",
   "execution_count": 169,
   "metadata": {},
   "outputs": [
    {
     "name": "stdout",
     "output_type": "stream",
     "text": [
      "best_f1_score:  0.6618705035971223 | best_acc_score 0.8843076923076924 \n",
      "best_model:  <class 'lightgbm.sklearn.LGBMClassifier'> \n",
      "best_parameter:  {'learning_rate': 0.2, 'max_depth': 10, 'n_estimators': 200}\n"
     ]
    }
   ],
   "source": [
    "print('best_f1_score: ', best_score, '| best_acc_score', accuracy, '\\nbest_model: ', best_model, '\\nbest_parameter: ', best_parameter)"
   ]
  },
  {
   "cell_type": "code",
   "execution_count": 173,
   "metadata": {},
   "outputs": [
    {
     "name": "stdout",
     "output_type": "stream",
     "text": [
      "              precision    recall  f1-score   support\n",
      "\n",
      "           0       1.00      1.00      1.00      3914\n",
      "           1       1.00      1.00      1.00       958\n",
      "\n",
      "    accuracy                           1.00      4872\n",
      "   macro avg       1.00      1.00      1.00      4872\n",
      "weighted avg       1.00      1.00      1.00      4872\n",
      "\n",
      "              precision    recall  f1-score   support\n",
      "\n",
      "           0       0.90      0.96      0.93      1306\n",
      "           1       0.78      0.58      0.66       319\n",
      "\n",
      "    accuracy                           0.88      1625\n",
      "   macro avg       0.84      0.77      0.80      1625\n",
      "weighted avg       0.88      0.88      0.88      1625\n",
      "\n"
     ]
    }
   ],
   "source": [
    "# best 모델 학습\n",
    "model = best_model(**best_parameter).fit(train_x.values, train_y.values)\n",
    "\n",
    "train_pred = model.predict(train_x.values)\n",
    "test_pred = model.predict(test_x.values)\n",
    "\n",
    "print(classification_report(train_y, train_pred))\n",
    "print(classification_report(test_y, test_pred))"
   ]
  },
  {
   "cell_type": "markdown",
   "metadata": {},
   "source": [
    "### 업샘플링 데이터로 다시"
   ]
  },
  {
   "cell_type": "code",
   "execution_count": 174,
   "metadata": {},
   "outputs": [
    {
     "name": "stdout",
     "output_type": "stream",
     "text": [
      "iter_num-1/48 => score : 0.489, best score : 0.489 | acc : 0.7993846153846154\n",
      "iter_num-2/48 => score : 0.492, best score : 0.492 | acc : 0.7938461538461539\n",
      "iter_num-3/48 => score : 0.495, best score : 0.495 | acc : 0.7956923076923077\n",
      "iter_num-4/48 => score : 0.570, best score : 0.570 | acc : 0.820923076923077\n",
      "iter_num-5/48 => score : 0.546, best score : 0.570 | acc : 0.820923076923077\n",
      "iter_num-6/48 => score : 0.548, best score : 0.570 | acc : 0.820923076923077\n",
      "iter_num-7/48 => score : 0.632, best score : 0.632 | acc : 0.8516923076923076\n",
      "iter_num-8/48 => score : 0.639, best score : 0.639 | acc : 0.8523076923076923\n",
      "iter_num-9/48 => score : 0.632, best score : 0.639 | acc : 0.8523076923076923\n",
      "iter_num-10/48 => score : 0.657, best score : 0.657 | acc : 0.8683076923076923\n",
      "iter_num-11/48 => score : 0.662, best score : 0.662 | acc : 0.8683076923076923\n",
      "iter_num-12/48 => score : 0.652, best score : 0.662 | acc : 0.8683076923076923\n",
      "iter_num-13/48 => score : 0.551, best score : 0.662 | acc : 0.8683076923076923\n",
      "iter_num-14/48 => score : 0.548, best score : 0.662 | acc : 0.8683076923076923\n",
      "iter_num-15/48 => score : 0.564, best score : 0.662 | acc : 0.8683076923076923\n",
      "iter_num-16/48 => score : 0.590, best score : 0.662 | acc : 0.8683076923076923\n",
      "iter_num-17/48 => score : 0.580, best score : 0.662 | acc : 0.8683076923076923\n",
      "iter_num-18/48 => score : 0.603, best score : 0.662 | acc : 0.8683076923076923\n",
      "iter_num-19/48 => score : 0.597, best score : 0.662 | acc : 0.8683076923076923\n",
      "iter_num-20/48 => score : 0.624, best score : 0.662 | acc : 0.8683076923076923\n",
      "iter_num-21/48 => score : 0.635, best score : 0.662 | acc : 0.8683076923076923\n",
      "iter_num-22/48 => score : 0.583, best score : 0.662 | acc : 0.8683076923076923\n",
      "iter_num-23/48 => score : 0.629, best score : 0.662 | acc : 0.8683076923076923\n",
      "iter_num-24/48 => score : 0.666, best score : 0.666 | acc : 0.8775384615384615\n",
      "iter_num-25/48 => score : 0.556, best score : 0.666 | acc : 0.8775384615384615\n",
      "iter_num-26/48 => score : 0.565, best score : 0.666 | acc : 0.8775384615384615\n",
      "iter_num-27/48 => score : 0.577, best score : 0.666 | acc : 0.8775384615384615\n",
      "iter_num-28/48 => score : 0.592, best score : 0.666 | acc : 0.8775384615384615\n",
      "iter_num-29/48 => score : 0.616, best score : 0.666 | acc : 0.8775384615384615\n",
      "iter_num-30/48 => score : 0.637, best score : 0.666 | acc : 0.8775384615384615\n",
      "iter_num-31/48 => score : 0.610, best score : 0.666 | acc : 0.8775384615384615\n",
      "iter_num-32/48 => score : 0.641, best score : 0.666 | acc : 0.8775384615384615\n",
      "iter_num-33/48 => score : 0.640, best score : 0.666 | acc : 0.8775384615384615\n",
      "iter_num-34/48 => score : 0.619, best score : 0.666 | acc : 0.8775384615384615\n",
      "iter_num-35/48 => score : 0.633, best score : 0.666 | acc : 0.8775384615384615\n",
      "iter_num-36/48 => score : 0.636, best score : 0.666 | acc : 0.8775384615384615\n",
      "iter_num-37/48 => score : 0.547, best score : 0.666 | acc : 0.8775384615384615\n",
      "iter_num-38/48 => score : 0.567, best score : 0.666 | acc : 0.8775384615384615\n",
      "iter_num-39/48 => score : 0.587, best score : 0.666 | acc : 0.8775384615384615\n",
      "iter_num-40/48 => score : 0.608, best score : 0.666 | acc : 0.8775384615384615\n",
      "iter_num-41/48 => score : 0.651, best score : 0.666 | acc : 0.8775384615384615\n",
      "iter_num-42/48 => score : 0.662, best score : 0.666 | acc : 0.8775384615384615\n",
      "iter_num-43/48 => score : 0.653, best score : 0.666 | acc : 0.8775384615384615\n",
      "iter_num-44/48 => score : 0.659, best score : 0.666 | acc : 0.8775384615384615\n",
      "iter_num-45/48 => score : 0.650, best score : 0.666 | acc : 0.8775384615384615\n",
      "iter_num-46/48 => score : 0.657, best score : 0.666 | acc : 0.8775384615384615\n",
      "iter_num-47/48 => score : 0.650, best score : 0.666 | acc : 0.8775384615384615\n",
      "iter_num-48/48 => score : 0.652, best score : 0.666 | acc : 0.8775384615384615\n"
     ]
    }
   ],
   "source": [
    "best_score = -1\n",
    "iteration_num = 0\n",
    "knn_list = []\n",
    "rfr_list = []\n",
    "lgb_list = []\n",
    "\n",
    "for m in model_parameter_dict.keys():\n",
    "    for p in model_parameter_dict[m]:\n",
    "        model = m(**p).fit(o_Train_X.values, o_Train_Y.values)\n",
    "        pred = model.predict(test_x.values)\n",
    "        score = f1_score(test_y.values, pred)\n",
    "        acc = accuracy_score(test_y.values, pred)\n",
    "\n",
    "        if score > best_score:\n",
    "            best_score = score\n",
    "            best_model = m\n",
    "            best_parameter = p\n",
    "            accuracy = acc\n",
    "            \n",
    "        if m == KNN:\n",
    "            knn_list.append(score)\n",
    "        elif m == RFC:\n",
    "            rfr_list.append(score)\n",
    "        elif m == LGB:\n",
    "            lgb_list.append(score)\n",
    "        \n",
    "        iteration_num += 1\n",
    "\n",
    "        print(f'iter_num-{iteration_num}/{max_iter} => score : {score:.3f}, best score : {best_score:.3f} | acc : {accuracy}')"
   ]
  },
  {
   "cell_type": "code",
   "execution_count": 175,
   "metadata": {},
   "outputs": [
    {
     "name": "stdout",
     "output_type": "stream",
     "text": [
      "best_f1_score:  0.6655462184873949 | best_acc_score 0.8775384615384615 \n",
      "best_model:  <class 'lightgbm.sklearn.LGBMClassifier'> \n",
      "best_parameter:  {'learning_rate': 0.05, 'max_depth': 15, 'n_estimators': 400}\n"
     ]
    }
   ],
   "source": [
    "print('best_f1_score: ', best_score, '| best_acc_score', accuracy, '\\nbest_model: ', best_model, '\\nbest_parameter: ', best_parameter)"
   ]
  },
  {
   "cell_type": "code",
   "execution_count": 176,
   "metadata": {},
   "outputs": [
    {
     "name": "stdout",
     "output_type": "stream",
     "text": [
      "              precision    recall  f1-score   support\n",
      "\n",
      "           0       1.00      1.00      1.00      3914\n",
      "           1       0.99      1.00      0.99      1957\n",
      "\n",
      "    accuracy                           1.00      5871\n",
      "   macro avg       1.00      1.00      1.00      5871\n",
      "weighted avg       1.00      1.00      1.00      5871\n",
      "\n",
      "              precision    recall  f1-score   support\n",
      "\n",
      "           0       0.91      0.94      0.93      1306\n",
      "           1       0.72      0.62      0.67       319\n",
      "\n",
      "    accuracy                           0.88      1625\n",
      "   macro avg       0.81      0.78      0.80      1625\n",
      "weighted avg       0.87      0.88      0.87      1625\n",
      "\n"
     ]
    }
   ],
   "source": [
    "# best 모델 학습\n",
    "model = best_model(**best_parameter).fit(o_Train_X.values, o_Train_Y.values)\n",
    "\n",
    "train_pred = model.predict(o_Train_X.values)\n",
    "test_pred = model.predict(test_x.values)\n",
    "\n",
    "print(classification_report(o_Train_Y, train_pred))\n",
    "print(classification_report(test_y, test_pred))"
   ]
  },
  {
   "cell_type": "code",
   "execution_count": 179,
   "metadata": {},
   "outputs": [
    {
     "data": {
      "image/png": "[encoded data removed]",
      "text/plain": [
       "<Figure size 864x576 with 1 Axes>"
      ]
     },
     "metadata": {
      "needs_background": "light"
     },
     "output_type": "display_data"
    }
   ],
   "source": [
    "ftr_importances_values = model.feature_importances_\n",
    "ftr_importances = pd.Series(ftr_importances_values, index = X.columns)\n",
    "ftr_top20 = ftr_importances.sort_values(ascending=False)[:21]\n",
    "\n",
    "plt.figure(figsize=(12,8))\n",
    "plt.title('Feature Importances')\n",
    "sns.barplot(x=ftr_top20, y=ftr_top20.index)\n",
    "plt.show()"
   ]
  },
  {
   "cell_type": "markdown",
   "metadata": {},
   "source": [
    "- 모델 저장 및 불러오기 "
   ]
  },
  {
   "cell_type": "code",
   "execution_count": null,
   "metadata": {},
   "outputs": [],
   "source": [
    "import pickle\n",
    "# 모델 저장\n",
    "saved_model = pickle.dumps(clf)\n",
    "\n",
    "# 모델 Read\n",
    "clf_from_pickle = pickle.loads(saved_model)"
   ]
  }
 ],
 "metadata": {
  "kernelspec": {
   "display_name": "ds_study",
   "language": "python",
   "name": "python3"
  },
  "language_info": {
   "codemirror_mode": {
    "name": "ipython",
    "version": 3
   },
   "file_extension": ".py",
   "mimetype": "text/x-python",
   "name": "python",
   "nbconvert_exporter": "python",
   "pygments_lexer": "ipython3",
   "version": "3.8.12"
  }
 },
 "nbformat": 4,
 "nbformat_minor": 2
}
